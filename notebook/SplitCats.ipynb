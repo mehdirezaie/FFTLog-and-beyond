{
 "cells": [
  {
   "cell_type": "code",
   "execution_count": 1,
   "metadata": {},
   "outputs": [],
   "source": [
    "# notebook for splitting Edmond's catalogs\n",
    "# into DECaLS North, DECaLS South, and BASS/MzLS\n",
    "import numpy as np"
   ]
  },
  {
   "cell_type": "code",
   "execution_count": 2,
   "metadata": {},
   "outputs": [],
   "source": [
    "sdec = np.loadtxt('/Volumes/TimeMachine/data/DR9fnl/FOR_MEDHI/Catalogs/south_targets-final.txt')\n",
    "sdecr = np.loadtxt('/Volumes/TimeMachine/data/DR9fnl/FOR_MEDHI/Catalogs/south_randoms.txt')\n",
    "\n",
    "des = np.loadtxt('/Volumes/TimeMachine/data/DR9fnl/FOR_MEDHI/Catalogs/des_targets-final.txt')\n",
    "desr = np.loadtxt('/Volumes/TimeMachine/data/DR9fnl/FOR_MEDHI/Catalogs/des_randoms.txt')"
   ]
  },
  {
   "cell_type": "code",
   "execution_count": 5,
   "metadata": {},
   "outputs": [],
   "source": [
    "%matplotlib inline\n",
    "import matplotlib.pyplot as plt"
   ]
  },
  {
   "cell_type": "code",
   "execution_count": 6,
   "metadata": {},
   "outputs": [
    {
     "data": {
      "text/plain": [
       "<matplotlib.collections.PathCollection at 0x120f72eb0>"
      ]
     },
     "execution_count": 6,
     "metadata": {},
     "output_type": "execute_result"
    },
    {
     "data": {
      "image/png": "[encoded data removed]",
      "text/plain": [
       "<Figure size 432x288 with 1 Axes>"
      ]
     },
     "metadata": {
      "needs_background": "light"
     },
     "output_type": "display_data"
    }
   ],
   "source": [
    "plt.scatter(sdec[:, 0], sdec[:, 1])"
   ]
  },
  {
   "cell_type": "code",
   "execution_count": 7,
   "metadata": {},
   "outputs": [
    {
     "data": {
      "text/plain": [
       "<matplotlib.collections.PathCollection at 0x12121eee0>"
      ]
     },
     "execution_count": 7,
     "metadata": {},
     "output_type": "execute_result"
    },
    {
     "data": {
      "image/png": "[encoded data removed]",
      "text/plain": [
       "<Figure size 432x288 with 1 Axes>"
      ]
     },
     "metadata": {
      "needs_background": "light"
     },
     "output_type": "display_data"
    }
   ],
   "source": [
    "plt.scatter(des[:, 0], des[:, 1])"
   ]
  },
  {
   "cell_type": "code",
   "execution_count": 8,
   "metadata": {},
   "outputs": [],
   "source": [
    "decals = np.concatenate([sdec, des])"
   ]
  },
  {
   "cell_type": "code",
   "execution_count": 9,
   "metadata": {},
   "outputs": [
    {
     "data": {
      "text/plain": [
       "(3700173, 4)"
      ]
     },
     "execution_count": 9,
     "metadata": {},
     "output_type": "execute_result"
    }
   ],
   "source": [
    "decals.shape"
   ]
  },
  {
   "cell_type": "code",
   "execution_count": 10,
   "metadata": {},
   "outputs": [
    {
     "data": {
      "text/plain": [
       "<matplotlib.collections.PathCollection at 0x12106f880>"
      ]
     },
     "execution_count": 10,
     "metadata": {},
     "output_type": "execute_result"
    },
    {
     "data": {
      "image/png": "[encoded data removed]",
      "text/plain": [
       "<Figure size 432x288 with 1 Axes>"
      ]
     },
     "metadata": {
      "needs_background": "light"
     },
     "output_type": "display_data"
    }
   ],
   "source": [
    "plt.scatter(decals[:, 0], decals[:, 1])"
   ]
  },
  {
   "cell_type": "code",
   "execution_count": 11,
   "metadata": {},
   "outputs": [],
   "source": [
    "decals_good = decals[decals[:, 1] > -30.]"
   ]
  },
  {
   "cell_type": "code",
   "execution_count": 12,
   "metadata": {},
   "outputs": [
    {
     "data": {
      "text/plain": [
       "<matplotlib.collections.PathCollection at 0x1214e2a30>"
      ]
     },
     "execution_count": 12,
     "metadata": {},
     "output_type": "execute_result"
    },
    {
     "data": {
      "image/png": "[encoded data removed]",
      "text/plain": [
       "<Figure size 432x288 with 1 Axes>"
      ]
     },
     "metadata": {
      "needs_background": "light"
     },
     "output_type": "display_data"
    }
   ],
   "source": [
    "plt.scatter(decals_good[:, 0], decals_good[:, 1])"
   ]
  },
  {
   "cell_type": "code",
   "execution_count": 14,
   "metadata": {},
   "outputs": [],
   "source": [
    "import fitsio as ft"
   ]
  },
  {
   "cell_type": "code",
   "execution_count": 37,
   "metadata": {},
   "outputs": [
    {
     "name": "stdout",
     "output_type": "stream",
     "text": [
      "\u001b[34mJN\u001b[m\u001b[m/                                  \u001b[34msv3target_ELG_NDECALS.fits_mask\u001b[m\u001b[m/\r\n",
      "NBMZLS_randoms-1-0x2.fits            sv3target_ELG_SDECALS.fits\r\n",
      "\u001b[34mNBMZLS_randoms-1-0x2.fits_mask\u001b[m\u001b[m/      \u001b[34msv3target_ELG_SDECALS.fits_EdWsys\u001b[m\u001b[m/\r\n",
      "NBMZLS_randoms-1-0x5.fits            \u001b[34msv3target_ELG_SDECALS.fits_mask\u001b[m\u001b[m/\r\n",
      "NDECALS_randoms-1-0x2.fits           sv3target_LRG_NBMZLS.fits\r\n",
      "\u001b[34mNDECALS_randoms-1-0x2.fits_mask\u001b[m\u001b[m/     \u001b[34msv3target_LRG_NBMZLS.fits_EdWsys\u001b[m\u001b[m/\r\n",
      "NDECALS_randoms-1-0x5.fits           \u001b[34msv3target_LRG_NBMZLS.fits_mask\u001b[m\u001b[m/\r\n",
      "README                               sv3target_LRG_NDECALS.fits\r\n",
      "SDECALS_randoms-1-0x2.fits           \u001b[34msv3target_LRG_NDECALS.fits_EdWsys\u001b[m\u001b[m/\r\n",
      "\u001b[34mSDECALS_randoms-1-0x2.fits_mask\u001b[m\u001b[m/     \u001b[34msv3target_LRG_NDECALS.fits_mask\u001b[m\u001b[m/\r\n",
      "SDECALS_randoms-1-0x5.fits           sv3target_LRG_SDECALS.fits\r\n",
      "sv3target_BGS_ANY_NBMZLS.fits        \u001b[34msv3target_LRG_SDECALS.fits_EdWsys\u001b[m\u001b[m/\r\n",
      "\u001b[34msv3target_BGS_ANY_NBMZLS.fits_mask\u001b[m\u001b[m/  \u001b[34msv3target_LRG_SDECALS.fits_mask\u001b[m\u001b[m/\r\n",
      "sv3target_BGS_ANY_NDECALS.fits       sv3target_QSO_NBMZLS.fits\r\n",
      "\u001b[34msv3target_BGS_ANY_NDECALS.fits_mask\u001b[m\u001b[m/ \u001b[34msv3target_QSO_NBMZLS.fits_EdWsys\u001b[m\u001b[m/\r\n",
      "sv3target_BGS_ANY_SDECALS.fits       \u001b[34msv3target_QSO_NBMZLS.fits_mask\u001b[m\u001b[m/\r\n",
      "\u001b[34msv3target_BGS_ANY_SDECALS.fits_mask\u001b[m\u001b[m/ sv3target_QSO_NDECALS.fits\r\n",
      "sv3target_ELG_NBMZLS.fits            \u001b[34msv3target_QSO_NDECALS.fits_EdWsys\u001b[m\u001b[m/\r\n",
      "\u001b[34msv3target_ELG_NBMZLS.fits_EdWsys\u001b[m\u001b[m/    \u001b[34msv3target_QSO_NDECALS.fits_mask\u001b[m\u001b[m/\r\n",
      "\u001b[34msv3target_ELG_NBMZLS.fits_mask\u001b[m\u001b[m/      sv3target_QSO_SDECALS.fits\r\n",
      "sv3target_ELG_NDECALS.fits           \u001b[34msv3target_QSO_SDECALS.fits_EdWsys\u001b[m\u001b[m/\r\n",
      "\u001b[34msv3target_ELG_NDECALS.fits_EdWsys\u001b[m\u001b[m/   \u001b[34msv3target_QSO_SDECALS.fits_mask\u001b[m\u001b[m/\r\n"
     ]
    }
   ],
   "source": [
    "ls /Volumes/TimeMachine/data/sv3/"
   ]
  },
  {
   "cell_type": "code",
   "execution_count": 38,
   "metadata": {},
   "outputs": [],
   "source": [
    "ndecals = ft.read('/Volumes/TimeMachine/data/sv3/sv3target_QSO_NBMZLS.fits', columns=['RA', 'DEC'])"
   ]
  },
  {
   "cell_type": "code",
   "execution_count": 39,
   "metadata": {},
   "outputs": [
    {
     "name": "stdout",
     "output_type": "stream",
     "text": [
      "all-des_randoms.txt                  north_randoms.txt\r\n",
      "all-des_targets-final.txt            north_targets-final.txt\r\n",
      "all-des_targets-final_corrected.txt  north_targets-final_corrected.txt\r\n",
      "des_randoms.txt                      south_randoms.txt\r\n",
      "des_targets-final.txt                south_targets-final.txt\r\n",
      "des_targets-final_corrected.txt      south_targets-final_corrected.txt\r\n"
     ]
    }
   ],
   "source": [
    "ls /Volumes/TimeMachine/data/DR9fnl/FOR_MEDHI/Catalogs/"
   ]
  },
  {
   "cell_type": "code",
   "execution_count": 40,
   "metadata": {},
   "outputs": [],
   "source": [
    "bmzls = np.loadtxt('/Volumes/TimeMachine/data/DR9fnl/FOR_MEDHI/Catalogs/north_targets-final.txt')"
   ]
  },
  {
   "cell_type": "code",
   "execution_count": 41,
   "metadata": {},
   "outputs": [
    {
     "data": {
      "text/plain": [
       "(6573020, 1520398)"
      ]
     },
     "execution_count": 41,
     "metadata": {},
     "output_type": "execute_result"
    }
   ],
   "source": [
    "bmzls.size, ndecals.size"
   ]
  },
  {
   "cell_type": "code",
   "execution_count": 42,
   "metadata": {},
   "outputs": [
    {
     "data": {
      "text/plain": [
       "(1643255, 4)"
      ]
     },
     "execution_count": 42,
     "metadata": {},
     "output_type": "execute_result"
    }
   ],
   "source": [
    "bmzls.shape"
   ]
  },
  {
   "cell_type": "code",
   "execution_count": 43,
   "metadata": {},
   "outputs": [
    {
     "data": {
      "text/plain": [
       "(1520398,)"
      ]
     },
     "execution_count": 43,
     "metadata": {},
     "output_type": "execute_result"
    }
   ],
   "source": [
    "ndecals.shape"
   ]
  },
  {
   "cell_type": "code",
   "execution_count": 23,
   "metadata": {},
   "outputs": [],
   "source": [
    "sdecals = ft.read('/Volumes/TimeMachine/data/sv3/sv3target_QSO_SDECALS.fits')"
   ]
  },
  {
   "cell_type": "code",
   "execution_count": 25,
   "metadata": {},
   "outputs": [
    {
     "data": {
      "text/plain": [
       "<matplotlib.collections.PathCollection at 0x189e808b0>"
      ]
     },
     "execution_count": 25,
     "metadata": {},
     "output_type": "execute_result"
    },
    {
     "data": {
      "image/png": "[encoded data removed]",
      "text/plain": [
       "<Figure size 432x288 with 1 Axes>"
      ]
     },
     "metadata": {
      "needs_background": "light"
     },
     "output_type": "display_data"
    }
   ],
   "source": [
    "plt.scatter(sdecals['RA'], sdecals['DEC'])"
   ]
  },
  {
   "cell_type": "code",
   "execution_count": 36,
   "metadata": {},
   "outputs": [
    {
     "data": {
      "text/plain": [
       "1900105"
      ]
     },
     "execution_count": 36,
     "metadata": {},
     "output_type": "execute_result"
    }
   ],
   "source": [
    "ndecals.size"
   ]
  },
  {
   "cell_type": "code",
   "execution_count": null,
   "metadata": {},
   "outputs": [],
   "source": []
  },
  {
   "cell_type": "code",
   "execution_count": 35,
   "metadata": {},
   "outputs": [
    {
     "data": {
      "text/plain": [
       "array([   42,    42,    42, ..., 49099, 49099, 49099])"
      ]
     },
     "execution_count": 35,
     "metadata": {},
     "output_type": "execute_result"
    }
   ],
   "source": [
    "sdecals['HPXPIXEL']"
   ]
  },
  {
   "cell_type": "code",
   "execution_count": 22,
   "metadata": {},
   "outputs": [
    {
     "data": {
      "text/plain": [
       "<matplotlib.collections.PathCollection at 0x156a71d00>"
      ]
     },
     "execution_count": 22,
     "metadata": {},
     "output_type": "execute_result"
    },
    {
     "data": {
      "image/png": "[encoded data removed]",
      "text/plain": [
       "<Figure size 432x288 with 1 Axes>"
      ]
     },
     "metadata": {
      "needs_background": "light"
     },
     "output_type": "display_data"
    }
   ],
   "source": [
    "plt.scatter(ndecals['RA'], ndecals['DEC'])"
   ]
  },
  {
   "cell_type": "code",
   "execution_count": 31,
   "metadata": {},
   "outputs": [
    {
     "name": "stdout",
     "output_type": "stream",
     "text": [
      "/Volumes/TimeMachine/data/sv3/NBMZLS_randoms-1-0x2.fits\r\n",
      "/Volumes/TimeMachine/data/sv3/NBMZLS_randoms-1-0x5.fits\r\n",
      "/Volumes/TimeMachine/data/sv3/NDECALS_randoms-1-0x2.fits\r\n",
      "/Volumes/TimeMachine/data/sv3/NDECALS_randoms-1-0x5.fits\r\n",
      "/Volumes/TimeMachine/data/sv3/SDECALS_randoms-1-0x2.fits\r\n",
      "/Volumes/TimeMachine/data/sv3/SDECALS_randoms-1-0x5.fits\r\n"
     ]
    }
   ],
   "source": [
    "ls /Volumes/TimeMachine/data/sv3/*randoms*.fits"
   ]
  },
  {
   "cell_type": "code",
   "execution_count": 34,
   "metadata": {},
   "outputs": [
    {
     "data": {
      "text/plain": [
       "('RA', 'DEC')"
      ]
     },
     "execution_count": 34,
     "metadata": {},
     "output_type": "execute_result"
    }
   ],
   "source": [
    "ndecals.dtype.names"
   ]
  },
  {
   "cell_type": "code",
   "execution_count": null,
   "metadata": {},
   "outputs": [],
   "source": []
  }
 ],
 "metadata": {
  "kernelspec": {
   "display_name": "python (sysnet)",
   "language": "python",
   "name": "sysnet"
  },
  "language_info": {
   "codemirror_mode": {
    "name": "ipython",
    "version": 3
   },
   "file_extension": ".py",
   "mimetype": "text/x-python",
   "name": "python",
   "nbconvert_exporter": "python",
   "pygments_lexer": "ipython3",
   "version": "3.8.8"
  }
 },
 "nbformat": 4,
 "nbformat_minor": 4
}
